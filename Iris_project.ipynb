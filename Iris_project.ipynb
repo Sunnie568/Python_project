{
 "cells": [
  {
   "cell_type": "markdown",
   "metadata": {},
   "source": [
    "## Iris Project\n",
    "#### Xuyang Chen\n",
    "##### 2025 Summer"
   ]
  },
  {
   "cell_type": "markdown",
   "metadata": {},
   "source": []
  },
  {
   "cell_type": "markdown",
   "metadata": {},
   "source": [
    "### Introduction\n",
    "The Iris dataset, first introduced by the British statistician and biologist **Ronald A. Fisher (1936)**, is one of the most widely used benchmark datasets in statistics, machine learning, and pattern recognition. It contains 150 observations of iris flowers, equally divided among three species: _Iris setosa_, _Iris versicolor_, and _Iris virginica_. Each observation is described by four numerical features: sepal length, sepal width, petal length, and petal width."
   ]
  },
  {
   "cell_type": "markdown",
   "metadata": {},
   "source": [
    "In this project, I will explore the Iris dataset through:\n",
    "\n",
    "- **Basic Data Analysis** – calculating summary statistics (mean, variance, correlation) and visualizing feature distributions.\n",
    "\n",
    "- **Data Visualization** – using scatter plots and pairwise comparisons to identify relationships between features.\n",
    "\n",
    "- **Principal Component Analysis (PCA)** – applying linear algebra techniques to reduce the dataset from four dimensions to two, while retaining as much variance as possible. This provides insight into how PCA can uncover hidden structure and simplify data visualization.\n",
    "\n",
    "By the end of this project, the Iris dataset will serve as both a foundation for understanding data preprocessing and statistical analysis and as a practical case study in linear algebra applications in data science."
   ]
  },
  {
   "cell_type": "markdown",
   "metadata": {},
   "source": [
    "### Reference:\n",
    "\n",
    "- Fisher, R. A. (1936). The use of multiple measurements in taxonomic problems. Annals of Eugenics, 7(2), 179–188. https://doi.org/10.1111/j.1469-1809.1936.tb02137.x \n",
    "\n",
    "- Kaggle Dataset: https://www.kaggle.com/datasets/uciml/iris"
   ]
  },
  {
   "cell_type": "markdown",
   "metadata": {},
   "source": []
  }
 ],
 "metadata": {
  "language_info": {
   "name": "python"
  }
 },
 "nbformat": 4,
 "nbformat_minor": 2
}
